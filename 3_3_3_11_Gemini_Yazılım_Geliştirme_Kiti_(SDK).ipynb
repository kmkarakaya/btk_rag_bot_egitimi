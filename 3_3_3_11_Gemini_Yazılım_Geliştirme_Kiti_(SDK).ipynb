{
  "cells": [
    {
      "cell_type": "markdown",
      "metadata": {
        "id": "view-in-github",
        "colab_type": "text"
      },
      "source": [
        "<a href=\"https://colab.research.google.com/github/kmkarakaya/btk_rag_bot_egitimi/blob/main/3_3_3_11_Gemini_Yaz%C4%B1l%C4%B1m_Geli%C5%9Ftirme_Kiti_(SDK).ipynb\" target=\"_parent\"><img src=\"https://colab.research.google.com/assets/colab-badge.svg\" alt=\"Open In Colab\"/></a>"
      ]
    },
    {
      "cell_type": "markdown",
      "metadata": {
        "id": "NtVOlmDSHmh4"
      },
      "source": [
        "##### Copyright 2025 Google LLC.\n",
        "\n",
        "[İngilizce versiyonundan](https://colab.research.google.com/github/google-gemini/cookbook/blob/main/quickstarts/Get_started.ipynb) genişletilip geliştirilmiştir.\n",
        "\n",
        "2025 KMK"
      ]
    },
    {
      "cell_type": "code",
      "metadata": {
        "cellView": "form",
        "id": "c470de77"
      },
      "source": [
        "# @title Apache Lisansı, Sürüm 2.0 (bu \"Lisans\") altında lisanslanmıştır;\n",
        "#\n",
        "# Apache Lisansı, Sürüm 2.0 (\"Lisans\") altında lisanslanmıştır;\n",
        "# bu dosyayı Lisans'a uymadan kullanamazsınız.\n",
        "# Lisans'ın bir kopyasını şu adresten edinebilirsiniz:\n",
        "#\n",
        "#     https://www.apache.org/licenses/LICENSE-2.0\n",
        "#\n",
        "# Yürürlükteki yasalarca gerekmedikçe veya yazılı olarak kabul edilmedikçe,\n",
        "# Lisans altında dağıtılan yazılım \"OLDUĞU GİBİ\",\n",
        "# AÇIK VEYA ZIMNİ GARANTİLER VEYA KOŞULLAR OLMAKSIZIN dağıtılır.\n",
        "# Lisans kapsamında belirli bir dil için geçerli olan izinleri ve\n",
        "# sınırlamaları görmek için Lisans'a bakın."
      ],
      "execution_count": 70,
      "outputs": []
    },
    {
      "cell_type": "markdown",
      "metadata": {
        "id": "eVmFDcYOSNiV"
      },
      "source": [
        "## Gemini API: Gemini Modelleriyle Başlangıç"
      ]
    },
    {
      "cell_type": "markdown",
      "metadata": {
        "id": "TrWvVAIP3c1v"
      },
      "source": [
        "Yeni **Google Gen AI Yazılım Geliştirme Kiti (SDK)**, hem Gemini Geliştirici (Developer) API'si hem de Vertex AI üzerindeki Gemini API'si aracılığıyla Gemini modellerine birleşik bir arayüz sağlar. Birkaç istisna dışında, bir platformda çalışan kod her ikisinde de çalışacaktır. Bu not defteri Geliştirici API'sini kullanır.\n",
        "\n",
        "Bu not defteri size şunları adım adım gösterecektir:\n",
        "\n",
        "*   Google GenAI SDK'yı Yükleme ve Kurulumu\n",
        "*   Metin ve çok modlu istemler\n",
        "*   Tokenları sayma\n",
        "*   Sistem talimatlarını ayarlama\n",
        "*   Güvenlik filtrelerini yapılandırma\n",
        "*   Çok turlu bir sohbet başlatma\n",
        "*   Üretilen çıktıyı kontrol etme\n",
        "*   İçerik akışı oluşturma ve eş zamansız istekler gönderme\n",
        "*   Metin gömmeleri oluşturma\n",
        "\n",
        "Bu yeni SDK hakkında daha fazla bilgiye not defterin sonundaki belgelerden ulaşabilirsiniz."
      ]
    },
    {
      "cell_type": "markdown",
      "metadata": {
        "id": "Mfk6YY3G5kqp"
      },
      "source": [
        "## Kurulum"
      ]
    },
    {
      "cell_type": "markdown",
      "metadata": {
        "id": "d5027929de8f"
      },
      "source": [
        "### SDK'yı Yükle\n",
        "\n",
        "SDK'yı [PyPI](https://github.com/googleapis/python-genai) 'dan yükleyin.."
      ]
    },
    {
      "cell_type": "code",
      "execution_count": 8,
      "metadata": {
        "id": "46zEFO2a9FFd",
        "colab": {
          "base_uri": "https://localhost:8080/"
        },
        "outputId": "266534b6-9c12-4c88-8c9d-9ec6de03b3d3"
      },
      "outputs": [
        {
          "output_type": "stream",
          "name": "stdout",
          "text": [
            "\u001b[?25l     \u001b[90m━━━━━━━━━━━━━━━━━━━━━━━━━━━━━━━━━━━━━━━━\u001b[0m \u001b[32m0.0/42.4 kB\u001b[0m \u001b[31m?\u001b[0m eta \u001b[36m-:--:--\u001b[0m\r\u001b[2K     \u001b[90m━━━━━━━━━━━━━━━━━━━━━━━━━━━━━━━━━━━━━━━━\u001b[0m \u001b[32m42.4/42.4 kB\u001b[0m \u001b[31m2.6 MB/s\u001b[0m eta \u001b[36m0:00:00\u001b[0m\n",
            "\u001b[?25h\u001b[?25l   \u001b[90m━━━━━━━━━━━━━━━━━━━━━━━━━━━━━━━━━━━━━━━━\u001b[0m \u001b[32m0.0/217.7 kB\u001b[0m \u001b[31m?\u001b[0m eta \u001b[36m-:--:--\u001b[0m\r\u001b[2K   \u001b[90m━━━━━━━━━━━━━━━━━━━━━━━━━━━━━━━━━━━━━━━━\u001b[0m \u001b[32m217.7/217.7 kB\u001b[0m \u001b[31m14.7 MB/s\u001b[0m eta \u001b[36m0:00:00\u001b[0m\n",
            "\u001b[?25h"
          ]
        }
      ],
      "source": [
        "%pip install -U -q 'google-genai>=1.0.0'"
      ]
    },
    {
      "cell_type": "markdown",
      "metadata": {
        "id": "CTIfnvCn9HvH"
      },
      "source": [
        "### API Anahtarınızı Kurun\n",
        "\n",
        "Aşağıdaki hücreyi çalıştırmak için API anahtarınız `GOOGLE_API_KEY` adlı bir Colab Secret'ta saklanmalıdır. Halihazırda bir API anahtarınız yoksa veya bir Colab Secret'ı nasıl oluşturacağınızdan emin değilseniz, bir önceki bölümü izleyiniz."
      ]
    },
    {
      "cell_type": "code",
      "execution_count": 72,
      "metadata": {
        "id": "A1pkoyZb9Jm3"
      },
      "outputs": [],
      "source": [
        "from google.colab import userdata\n",
        "\n",
        "GOOGLE_API_KEY = userdata.get('GOOGLE_API_KEY')"
      ]
    },
    {
      "cell_type": "markdown",
      "metadata": {
        "id": "3Hx_Gw9i0Yuv"
      },
      "source": [
        "### SDK istemcisini başlat\n",
        "\n",
        "Yeni SDK ile artık bir istemciyi API anahtarınızla başlatmanız yeterlidir. Model artık her çağrıda ayarlanır."
      ]
    },
    {
      "cell_type": "code",
      "execution_count": 73,
      "metadata": {
        "id": "HghvVpbU0Uap"
      },
      "outputs": [],
      "source": [
        "from google import genai\n",
        "from google.genai import types\n",
        "\n",
        "client = genai.Client(api_key=GOOGLE_API_KEY)"
      ]
    },
    {
      "cell_type": "markdown",
      "source": [
        "## Metin Üretimi"
      ],
      "metadata": {
        "id": "Ef2CJjCAKGB7"
      }
    },
    {
      "cell_type": "markdown",
      "metadata": {
        "id": "MvA_mbi1JxD5"
      },
      "source": [
        "### Bir model seçin\n",
        "\n",
        "Bu kılavuzda kullanmak istediğiniz modeli seçin. Listeden birini seçebilir veya manuel olarak bir model adı girebilirsiniz. Bazı modellerin, örneğin 2.5 modellerinin düşünme modelleri olduğunu ve bu nedenle yanıt vermek için biraz daha fazla zaman aldığını unutmayın.\n",
        "\n",
        "Tüm Gemini modellerinin tam bir genel görünümü için [belgelere](https://ai.google.dev/gemini-api/docs/models/gemini) göz atın."
      ]
    },
    {
      "cell_type": "code",
      "execution_count": 74,
      "metadata": {
        "id": "AChpZWIXu62m"
      },
      "outputs": [],
      "source": [
        "MODEL_ID = \"gemini-2.0-flash\""
      ]
    },
    {
      "cell_type": "markdown",
      "metadata": {
        "id": "6TYNPrNvQ8ue"
      },
      "source": [
        "### Metin yönlendirmelerini (prompt) gönderin\n",
        "\n"
      ]
    },
    {
      "cell_type": "markdown",
      "source": [
        "Yönlendirmelerinize yanıtlar oluşturmak için `generate_content` yöntemini kullanın. Metni doğrudan `generate_content`'a iletebilir ve yanıtın metin içeriğini almak için `.text` özelliğini kullanabilirsiniz. `.text` alanının, çıktıda yalnızca tek bir bölüm olduğunda çalışacağını unutmayın."
      ],
      "metadata": {
        "id": "mKB_UfzXFVdk"
      }
    },
    {
      "cell_type": "code",
      "source": [
        "user_prompt=\"2025 yılında Türkiye'nin en az nüfuslu ili hangisidir?\""
      ],
      "metadata": {
        "id": "D2pijTvoNbSP"
      },
      "execution_count": 75,
      "outputs": []
    },
    {
      "cell_type": "code",
      "execution_count": 76,
      "metadata": {
        "id": "T8md0ayAJ-RZ"
      },
      "outputs": [],
      "source": [
        "from IPython.display import Markdown\n",
        "\n",
        "response = client.models.generate_content(\n",
        "    model=MODEL_ID,\n",
        "    contents=user_prompt\n",
        ")"
      ]
    },
    {
      "cell_type": "code",
      "source": [
        "print(response.text)"
      ],
      "metadata": {
        "colab": {
          "base_uri": "https://localhost:8080/"
        },
        "id": "q_sP8dmNG7_r",
        "outputId": "4c3eb773-6ee2-40e5-ed65-5db1e36d94c3"
      },
      "execution_count": 77,
      "outputs": [
        {
          "output_type": "stream",
          "name": "stdout",
          "text": [
            "2025 yılı için kesin bir tahminde bulunmak zor olsa da, mevcut demografik eğilimler ve geçmiş veriler göz önüne alındığında, **Bayburt**'un Türkiye'nin en az nüfuslu ili olmaya devam etmesi büyük olasılıktır.\n",
            "\n",
            "Bayburt, uzun yıllardır Türkiye'nin en düşük nüfusa sahip ili konumundadır. 2023 sonu itibarıyla Türkiye İstatistik Kurumu (TÜİK) verilerine göre nüfusu 84.241 olarak açıklanmıştır. Genellikle ikinci sırada Tunceli gelmektedir.\n",
            "\n",
            "Büyük ve ani bir göç hareketi veya nüfus dinamiklerini etkileyecek önemli bir gelişme olmadığı sürece bu sıralamanın 2025'te de değişmesi beklenmez.\n"
          ]
        }
      ]
    },
    {
      "cell_type": "code",
      "source": [
        "Markdown(response.text)"
      ],
      "metadata": {
        "colab": {
          "base_uri": "https://localhost:8080/",
          "height": 145
        },
        "id": "JD382abMG1k7",
        "outputId": "ac641179-e98f-40e2-9edd-8985dbae1676"
      },
      "execution_count": 78,
      "outputs": [
        {
          "output_type": "execute_result",
          "data": {
            "text/plain": [
              "<IPython.core.display.Markdown object>"
            ],
            "text/markdown": "2025 yılı için kesin bir tahminde bulunmak zor olsa da, mevcut demografik eğilimler ve geçmiş veriler göz önüne alındığında, **Bayburt**'un Türkiye'nin en az nüfuslu ili olmaya devam etmesi büyük olasılıktır.\n\nBayburt, uzun yıllardır Türkiye'nin en düşük nüfusa sahip ili konumundadır. 2023 sonu itibarıyla Türkiye İstatistik Kurumu (TÜİK) verilerine göre nüfusu 84.241 olarak açıklanmıştır. Genellikle ikinci sırada Tunceli gelmektedir.\n\nBüyük ve ani bir göç hareketi veya nüfus dinamiklerini etkileyecek önemli bir gelişme olmadığı sürece bu sıralamanın 2025'te de değişmesi beklenmez."
          },
          "metadata": {},
          "execution_count": 78
        }
      ]
    },
    {
      "cell_type": "code",
      "source": [
        "print(response)"
      ],
      "metadata": {
        "colab": {
          "base_uri": "https://localhost:8080/"
        },
        "id": "9-maZMsDHCrV",
        "outputId": "24c025c3-c3d5-4a4a-a3e7-d2d74697f191"
      },
      "execution_count": 79,
      "outputs": [
        {
          "output_type": "stream",
          "name": "stdout",
          "text": [
            "sdk_http_response=HttpResponse(\n",
            "  headers=<dict len=10>\n",
            ") candidates=[Candidate(\n",
            "  content=Content(\n",
            "    parts=[\n",
            "      Part(\n",
            "        text=\"\"\"2025 yılı için kesin bir tahminde bulunmak zor olsa da, mevcut demografik eğilimler ve geçmiş veriler göz önüne alındığında, **Bayburt**'un Türkiye'nin en az nüfuslu ili olmaya devam etmesi büyük olasılıktır.\n",
            "\n",
            "Bayburt, uzun yıllardır Türkiye'nin en düşük nüfusa sahip ili konumundadır. 2023 sonu itibarıyla Türkiye İstatistik Kurumu (TÜİK) verilerine göre nüfusu 84.241 olarak açıklanmıştır. Genellikle ikinci sırada Tunceli gelmektedir.\n",
            "\n",
            "Büyük ve ani bir göç hareketi veya nüfus dinamiklerini etkileyecek önemli bir gelişme olmadığı sürece bu sıralamanın 2025'te de değişmesi beklenmez.\"\"\"\n",
            "      ),\n",
            "    ],\n",
            "    role='model'\n",
            "  ),\n",
            "  finish_reason=<FinishReason.STOP: 'STOP'>,\n",
            "  index=0\n",
            ")] create_time=None response_id=None model_version='gemini-2.5-flash' prompt_feedback=None usage_metadata=GenerateContentResponseUsageMetadata(\n",
            "  candidates_token_count=173,\n",
            "  prompt_token_count=19,\n",
            "  prompt_tokens_details=[\n",
            "    ModalityTokenCount(\n",
            "      modality=<MediaModality.TEXT: 'TEXT'>,\n",
            "      token_count=19\n",
            "    ),\n",
            "  ],\n",
            "  thoughts_token_count=923,\n",
            "  total_token_count=1115\n",
            ") automatic_function_calling_history=[] parsed=None\n"
          ]
        }
      ]
    },
    {
      "cell_type": "markdown",
      "source": [
        "### Gemini'den Gelen Cevabı (Response) İnceleyin"
      ],
      "metadata": {
        "id": "R-M29gaTKPyb"
      }
    },
    {
      "cell_type": "markdown",
      "source": [
        "\n",
        "\n",
        "Gemini'ye bir soru sorduğunuzda, size sadece cevabı göndermez; cevabın nasıl oluşturulduğuna dair tüm detayları içeren zengin bir \"bilgi paketi\" yollar. İşte bu paket `GenerateContentResponse` nesnesidir. Gelin bu paketin içindeki en önemli parçaları birlikte inceleyelim.\n",
        "\n",
        "Bunu, size gelen bir kargo paketi gibi düşünebilirsiniz:\n",
        "\n",
        "---\n",
        "\n",
        "#### 1. Paketin İçindeki Asıl Ürün: `candidates`\n",
        "\n",
        "Bu, en çok ilgilendiğiniz kısımdır: Modelin sizin için ürettiği **cevabın kendisi**.\n",
        "\n",
        "*   **Neden bir liste (`[]`) içinde?** Model teorik olarak aynı soruya birden fazla cevap alternatifi üretebilir. Ancak genellikle tek ve en iyi cevabı alırsınız.\n",
        "*   **Cevabı nasıl alırsınız?** İlk ve genelde tek olan cevabın metnine ulaşmak için:\n",
        "    `response.candidates[0].content.parts[0].text`\n",
        "\n",
        "> **Özetle:** Burası, modelin \"2025 yılında Türkiye'nin en az nüfuslu ili...\" diye başlayan asıl metninin bulunduğu yerdir.\n",
        "\n",
        "---\n",
        "\n",
        "#### 2. Kullanım Faturası: `usage_metadata`\n",
        "\n",
        "Bu bölüm, yaptığınız isteğin size \"maliyetini\" token cinsinden gösterir. API kullanımınızı takip etmek ve faturalandırmayı anlamak için en önemli kısımdır.\n",
        "\n",
        "*   `prompt_token_count` (Giriş Maliyeti): Sizin sorduğunuz sorunun token sayısı. (Örnek: 19)\n",
        "*   `candidates_token_count` (Cevap Maliyeti): Modelin ürettiği cevabın token sayısı. (Örnek: 140)\n",
        "*   `thoughts_token_count` (Düşünme Maliyeti): **Bu çok önemli!** Modelin cevabı bulmak için arka planda yaptığı düşünme, planlama ve ara hesaplamaların maliyetidir. Bunu, modelin cevabı yazmadan önce kullandığı bir \"karalama kağıdı\" gibi düşünebilirsiniz. (Örnek: 992)\n",
        "*   `total_token_count` (Toplam Maliyet): Yukarıdakilerin hepsinin toplamıdır. Bu yüzden toplam token sayısı, sadece soru ve cevabın toplamından daha fazladır! (Örnek: 1151)\n",
        "\n",
        "> **Özetle:** Bu bölüm, isteğinizin ne kadar \"pahalı\" olduğunu anlamanızı sağlar.\n",
        "\n",
        "---\n",
        "\n",
        "#### 3. Cevabın Durumu: `finish_reason`\n",
        "\n",
        "Modelin cevabı neden ve nasıl sonlandırdığını belirtir. Bu, cevabın sağlıklı bir şekilde tamamlanıp tamamlanmadığını kontrol etmek için kritiktir.\n",
        "\n",
        "*   `STOP`: Her şey yolunda. Model söyleyeceklerini bitirdi ve doğal bir şekilde durdu. (En sık görülen durum)\n",
        "*   `MAX_TOKENS`: Cevap çok uzundu ve izin verilen maksimum token limitine ulaştığı için kesildi. Cevabın sonu eksik olabilir.\n",
        "*   `FUNCTION_CALL`: Model, işleme devam etmek için sizin tanımladığınız bir fonksiyonu (tool) çağırması gerektiğini belirtiyor.\n",
        "\n",
        "> **Özetle:** Cevabın yarım kalıp kalmadığını veya başka bir eylem gerekip gerekmediğini buradan anlarsınız.\n",
        "\n",
        "---\n",
        "\n",
        "#### 4. Diğer Bilgiler\n",
        "\n",
        "*   **`model_version` (Model Etiketi):** Cevabı hangi Gemini modelinin ürettiğini gösteren basit bir bilgi. (Örnek: \"gemini-2.5-flash\")\n",
        "*   **`sdk_http_response` (Teknik Kargo Bilgisi):** Genellikle hata ayıklama için kullanılır. API isteğinin sunucuya ulaşıp ulaşmadığı (HTTP 200 OK gibi durum kodları) ve diğer ağ seviyesi teknik bilgileri içerir.\n",
        "\n",
        "---\n",
        "\n",
        "### Genel Bakış\n",
        "\n",
        "Kısacası, `GenerateContentResponse` sadece çıplak bir metin değil; **cevabın kendisi (`candidates`)**, bu cevabın **maliyeti (`usage_metadata`)** ve **nasıl tamamlandığı (`finish_reason`)** gibi hayati bilgileri bir arada sunan, geliştiriciler için tasarlanmış eksiksiz bir rapordur."
      ],
      "metadata": {
        "id": "Vu9YtGmDHA2L"
      }
    },
    {
      "cell_type": "markdown",
      "source": [
        "## Maliyeti Hesabı"
      ],
      "metadata": {
        "id": "uB0kkTKJiw8W"
      }
    },
    {
      "cell_type": "markdown",
      "source": [
        "### Neden LLM Maliyet Hesabı Yapmalıyız?\n",
        "\n",
        "Büyük Dil Modeli (BDM-LLM) tabanlı kod yazarken maliyet hesabı yapmak çok önemlidir, çünkü:\n",
        "\n",
        "1.  **Kullandıkça Öde Modeli:** Her BDM çağrısı (sorunuz ve modelin cevabı), \"token\" adı verilen birimler üzerinden doğrudan ücrete tabidir.\n",
        "2.  **Beklenmedik Faturalar:** Geliştirme sürecindeki testler veya artan kullanıcı trafiği, token kullanımını ve dolayısıyla maliyetleri hızla artırabilir. Hesaplama yaparak sürpriz faturaların önüne geçersiniz.\n",
        "3.  **Bütçeleme ve Optimizasyon:** Proje bütçenizi doğru planlamanıza ve performansı düşürmeden maliyetleri optimize etmenin (örneğin daha kısa promptlar veya farklı model seçenekleri) yollarını bulmanıza yardımcı olur.\n",
        "4.  **Ölçeklenebilirlik:** Uygulamanız büyüdükçe ve kullanım arttıkça maliyetlerin nasıl seyredeceğini öngörmenizi ve finansal stratejinizi buna göre belirlemenizi sağlar.\n",
        "\n",
        "Kısacası, LLM tabanlı geliştirmede her kullanımın bir maliyeti vardır ve bu maliyeti anlamak ve yönetmek, projenizin finansal sağlığı için hayati öneme sahiptir."
      ],
      "metadata": {
        "id": "3IQCN42oiSOK"
      }
    },
    {
      "cell_type": "markdown",
      "metadata": {
        "id": "_9B8pb7tv_Cx"
      },
      "source": [
        "### Tokenları sayın\n",
        "\n"
      ]
    },
    {
      "cell_type": "code",
      "source": [
        "try:\n",
        "    usage_metadata = response.usage_metadata\n",
        "\n",
        "    print(\"--- 🤖 Gemini API Token Maliyet Raporu ---\")\n",
        "    print(f\"➡️  Girdi Token (Prompt)    : {usage_metadata.prompt_token_count}\")\n",
        "    print(f\"⬅️  Çıktı Token (Cevap)      : {usage_metadata.candidates_token_count}\")\n",
        "    print(f\"🧠  Düşünme Token (Arka Plan): {usage_metadata.thoughts_token_count}\")\n",
        "    print(\"-\" * 40)\n",
        "    print(f\"💰  Toplam Faturalandırılan Token: {usage_metadata.total_token_count}\")\n",
        "    print(\"-\" * 40)\n",
        "\n",
        "except AttributeError:\n",
        "    print(\"Hata: Yanıtta 'usage_metadata' bulunamadı. Yanıt yapısını veya isteğin başarılı olup olmadığını kontrol edin.\")"
      ],
      "metadata": {
        "colab": {
          "base_uri": "https://localhost:8080/"
        },
        "id": "oPan2RRCL4-c",
        "outputId": "ac59701b-38a2-473e-ed35-1fc2f389310f"
      },
      "execution_count": 80,
      "outputs": [
        {
          "output_type": "stream",
          "name": "stdout",
          "text": [
            "--- 🤖 Gemini API Token Maliyet Raporu ---\n",
            "➡️  Girdi Token (Prompt)    : 19\n",
            "⬅️  Çıktı Token (Cevap)      : 173\n",
            "🧠  Düşünme Token (Arka Plan): 923\n",
            "----------------------------------------\n",
            "💰  Toplam Faturalandırılan Token: 1115\n",
            "----------------------------------------\n"
          ]
        }
      ]
    },
    {
      "cell_type": "markdown",
      "source": [
        "### Maliyeti Hesaplayın"
      ],
      "metadata": {
        "id": "aorLUOdyN-zh"
      }
    },
    {
      "cell_type": "markdown",
      "source": [
        "Gemini Developer API Fiyatlandırması için [bu bağlantıyı](https://ai.google.dev/gemini-api/docs/pricing?hl=tr) kullanabilirsiniz.\n",
        "\n",
        "Ağustos 2025'de [Gemini 2.5 Flash modeli](https://ai.google.dev/gemini-api/docs/pricing?hl=tr#gemini-2.5-flash) için geçerli  1 milyon jeton başına ABD doları cinsinden\n",
        "* Giriş fiyatı\tÜcretsiz\t0,30 ABD doları (metin / resim / video)\n",
        "\n",
        "* Çıkış fiyatı (düşünme jetonları dahil)\tÜcretsiz\t2,50 ABD doları\n",
        "\n",
        "BU verileri kullanarak toplam maliyet analizi yapabiliriz:"
      ],
      "metadata": {
        "id": "J5lOl0KFOZzo"
      }
    },
    {
      "cell_type": "code",
      "source": [
        "# --- Gemini 2.5 Flash Fiyatlandırması (Ağustos 2025 için verilen) ---\n",
        "# Fiyatlar 1 milyon token başına ABD doları cinsindendir.\n",
        "INPUT_PRICE_PER_MILLION_TOKENS = 0.30  # Giriş fiyatı (metin / resim / video)\n",
        "OUTPUT_PRICE_PER_MILLION_TOKENS = 2.50 # Çıkış fiyatı (düşünme jetonları dahil)\n",
        "\n",
        "# 1 milyon token'a bölmek için kullanılacak çarpan\n",
        "TOKENS_PER_MILLION = 1_000_000\n",
        "\n",
        "try:\n",
        "    usage_metadata = response.usage_metadata\n",
        "\n",
        "    # --- Token Sayılarını Al ---\n",
        "    girdi_token = usage_metadata.prompt_token_count\n",
        "    cikti_token = usage_metadata.candidates_token_count\n",
        "    dusunme_token = usage_metadata.thoughts_token_count\n",
        "    toplam_faturalanan_token = usage_metadata.total_token_count\n",
        "    # Bu, API'nin faturaladığı toplamdır.\n",
        "    # Ancak maliyet hesaplamasında, girdi ve çıktı/düşünme ayrı ayrı ele alınır.\n",
        "\n",
        "    # --- Maliyet Hesaplamaları ---\n",
        "    # Giriş Maliyeti: Sadece prompt_token_count kullanılır.\n",
        "    input_cost_usd = (girdi_token / TOKENS_PER_MILLION) * INPUT_PRICE_PER_MILLION_TOKENS\n",
        "\n",
        "    # Çıkış Maliyeti: candidates_token_count ve thoughts_token_count birleşiktir.\n",
        "    # Verilen fiyata göre \"düşünme jetonları dahil\" olduğu belirtilmiştir.\n",
        "    total_output_and_thought_tokens = cikti_token + dusunme_token\n",
        "    output_cost_usd = (total_output_and_thought_tokens / TOKENS_PER_MILLION) * OUTPUT_PRICE_PER_MILLION_TOKENS\n",
        "\n",
        "    # Toplam API Çağrı Maliyeti\n",
        "    total_call_cost_usd = input_cost_usd + output_cost_usd\n",
        "\n",
        "    # --- Sonuçları Ekrana Yazdırma ---\n",
        "    print(\"--- 🤖 Gemini API Token Maliyet Raporu ---\")\n",
        "    print(f\"➡️  Girdi Token (Prompt)    : {girdi_token} token\")\n",
        "    print(f\"⬅️  Çıktı Token (Cevap)      : {cikti_token} token\")\n",
        "    print(f\"🧠  Düşünme Token (Arka Plan): {dusunme_token} token\")\n",
        "    print(\"-\" * 40)\n",
        "    print(f\"💰  API Tarafından Bildirilen Toplam Token: {toplam_faturalanan_token} token\")\n",
        "    print(\"-\" * 40)\n",
        "    print(\"\\n--- 💲 ABD Doları Maliyet Analizi ---\")\n",
        "    print(f\"💵 Giriş Maliyeti            : ${input_cost_usd:.8f}\") # Formatlama ile daha fazla ondalık basamak gösteriyoruz\n",
        "    print(f\"💵 Çıkış + Düşünme Maliyeti  : ${output_cost_usd:.8f}\")\n",
        "    print(\"-\" * 40)\n",
        "    print(f\"💸 TOPLAM ÇAĞRI MALİYETİ     : ${total_call_cost_usd:.8f}\")\n",
        "    print(\"-\" * 40)\n",
        "\n",
        "except AttributeError:\n",
        "    print(\"Hata: 'usage_metadata' yanıtta bulunamadı. Yanıt yapısını veya isteğin başarılı olup olmadığını kontrol edin.\")\n",
        "    print(\"Eğer stream=True kullanıyorsanız, for döngüsü bittikten sonra bu koda eriştiğinizden emin olun.\")"
      ],
      "metadata": {
        "colab": {
          "base_uri": "https://localhost:8080/"
        },
        "id": "pVsfuSvKPXv7",
        "outputId": "83bbfb5e-a34c-4423-a8fb-4a9c9520d43f"
      },
      "execution_count": 81,
      "outputs": [
        {
          "output_type": "stream",
          "name": "stdout",
          "text": [
            "--- 🤖 Gemini API Token Maliyet Raporu ---\n",
            "➡️  Girdi Token (Prompt)    : 19 token\n",
            "⬅️  Çıktı Token (Cevap)      : 173 token\n",
            "🧠  Düşünme Token (Arka Plan): 923 token\n",
            "----------------------------------------\n",
            "💰  API Tarafından Bildirilen Toplam Token: 1115 token\n",
            "----------------------------------------\n",
            "\n",
            "--- 💲 ABD Doları Maliyet Analizi ---\n",
            "💵 Giriş Maliyeti            : $0.00000570\n",
            "💵 Çıkış + Düşünme Maliyeti  : $0.00274000\n",
            "----------------------------------------\n",
            "💸 TOPLAM ÇAĞRI MALİYETİ     : $0.00274570\n",
            "----------------------------------------\n"
          ]
        }
      ]
    },
    {
      "cell_type": "markdown",
      "metadata": {
        "id": "VTzuBfHyWAg5"
      },
      "source": [
        "## Model Parametreleri\n",
        "\n"
      ]
    },
    {
      "cell_type": "markdown",
      "source": [
        "Modelin bir yanıtı nasıl oluşturduğunu kontrol etmek için, bir modele gönderdiğiniz her çağrıya parametre değerleri ekleyebilirsiniz. [Parametre değerleriyle denemeler yapma](https://ai.google.dev/gemini-api/docs/text-generation?lang=node#configure) hakkında daha fazla bilgi edinin."
      ],
      "metadata": {
        "id": "WFL-WK1tFeBZ"
      }
    },
    {
      "cell_type": "code",
      "source": [
        "system_instruction = \"\"\"\n",
        "  Sen Google Gemini Büyük Dil Modeli konusunda uzmansın.\n",
        "  Gemini SDK konusunda sorulacak sorulara açık, net, anlaşılır ve kısa cevaplar ver.\n",
        "  Cevapların LLM kullanarak uygulama geliştirmeye yeni başlayan programcılara yol göstersin.\n",
        "  En son Gemini SDK versiyonu olan 2025 için geçerli olan cevapları oluştur.\n",
        "\"\"\"\n",
        "\n",
        "chat_config = types.GenerateContentConfig(\n",
        "    system_instruction=system_instruction,\n",
        "    temperature=1.0,\n",
        "    top_p=0.95,\n",
        "    top_k=20,\n",
        ")"
      ],
      "metadata": {
        "id": "YzsCXXA9jwqL"
      },
      "execution_count": 107,
      "outputs": []
    },
    {
      "cell_type": "code",
      "source": [
        "user_prompt = \"\"\" Aşağıdaki kavramları açıkla:\n",
        "- system_instruction\n",
        "- temperature = 1.0\n",
        "- top_p = 0.95\n",
        "- top_k = 20\n",
        "\"\"\""
      ],
      "metadata": {
        "id": "y0LKpFvKk4dd"
      },
      "execution_count": 108,
      "outputs": []
    },
    {
      "cell_type": "code",
      "execution_count": 109,
      "metadata": {
        "id": "r5izy6jsbEnL",
        "colab": {
          "base_uri": "https://localhost:8080/",
          "height": 843
        },
        "outputId": "ae9dee0f-72c5-4941-be7b-ff98c4663144"
      },
      "outputs": [
        {
          "output_type": "execute_result",
          "data": {
            "text/plain": [
              "<IPython.core.display.Markdown object>"
            ],
            "text/markdown": "Elbette, Gemini SDK kullanarak LLM uygulaması geliştirmeye yeni başlayan bir programcı olarak bu kavramları senin için netleştireyim:\n\n### `system_instruction`\n\n*   **Nedir:** Modeline, genel davranışını, rolünü veya kişiliğini belirten bir ön talimattır. Kullanıcı girdisinden önce verilen, tüm sohbet oturumunu veya isteği etkileyen bir yönergedir.\n*   **Ne İşe Yarar:** Modelin cevaplarının tutarlı bir şekilde belirli bir ton, stil veya kurallara uygun olmasını sağlar. Örneğin, modelin bir \"müşteri hizmetleri temsilcisi\" veya \"uzman bir programlama eğitmeni\" gibi davranmasını isteyebilirsin. Gemini SDK 2025 ile bu, modelin genel bağlamını belirlemenin güçlü bir yoludur.\n\n### `temperature = 1.0`\n\n*   **Nedir:** Modelin cevaplarının yaratıcılığını ve çeşitliliğini kontrol eden bir parametredir. 0.0 ile 1.0 arasında bir değer alır.\n*   **Ne İşe Yarar:**\n    *   **Düşük değerler (örneğin 0.0 - 0.2):** Modelin daha deterministik, tekrarlanabilir ve odaklanmış cevaplar üretmesini sağlar. Aynı isteme her zaman benzer cevaplar verir.\n    *   **Yüksek değerler (örneğin 0.8 - 1.0):** Modelin daha rastgele, yaratıcı ve çeşitli cevaplar üretmesini sağlar. Aynı isteme her seferinde farklı ve beklenmedik cevaplar verebilir. `1.0` değeri, modelin en yaratıcı ve öngörülemez olma eğiliminde olacağını gösterir.\n*   **Kullanım Alanı:** Beyin fırtınası, hikaye yazımı gibi yaratıcılığın istendiği durumlarda yüksek `temperature` kullanılır. Kesin ve doğru bilgi gerektiren durumlarda ise düşük `temperature` tercih edilir.\n\n### `top_p = 0.95`\n\n*   **Nedir:** \"Nucleus sampling\" adı verilen bir metodoloji ile modelin bir sonraki kelimeyi seçerken dikkate alacağı olası kelime kümesini sınırlayan bir parametredir. 0.0 ile 1.0 arasında bir değer alır.\n*   **Ne İşe Yarar:** Model, bir sonraki kelime için olası tüm kelimelerin olasılıklarını sıralar ve olasılıkları `top_p` değerine ulaşana kadar en yüksek olasılıklı kelimeleri dikkate alır.\n    *   **Örnek (0.95 için):** Model, en yüksek olasılıklı kelimeleri toplar ve bu kelimelerin kümülatif olasılığı %95'e ulaşana kadar bu kümeden seçim yapar. Bu, çok düşük olasılıklı, anlamsız kelimelerin seçilmesini engellerken, yine de belirli bir çeşitliliğe izin verir.\n*   **Kullanım Alanı:** `temperature` ile birlikte kullanılarak hem yaratıcılık hem de anlamsal tutarlılık arasında denge sağlamak için idealdir. `top_p` yüksek bir değerde (örneğin 0.95) ayarlandığında, modelin daha geniş bir kelime dağarcığından seçim yapmasına olanak tanırken, anlamsız veya alakasız kelimeleri dışlar.\n\n### `top_k = 20`\n\n*   **Nedir:** Modelin bir sonraki kelimeyi seçerken dikkate alacağı en olası kelime sayısını sınırlayan bir parametredir. Pozitif bir tam sayı değeridir.\n*   **Ne İşe Yarar:** Model, bir sonraki kelime için olası tüm kelimelerin olasılıklarını sıralar ve yalnızca en yüksek olasılıklı `k` sayıda kelimeyi dikkate alır.\n    *   **Örnek (20 için):** Model, bir sonraki kelimeyi seçmek için sadece en yüksek olasılıklı 20 kelime arasından bir seçim yapar.\n*   **Kullanım Alanı:** `top_p` ile benzer bir amaca hizmet eder ancak farklı bir kontrol mekanizması sunar. `top_k` genellikle daha basit bir kontrol sağlarken, `top_p` dilin doğal dağılımına daha iyi uyum sağlayabildiği için genellikle daha dinamik ve tercih edilen bir yöntemdir. Yine de belirli senaryolarda `top_k` daha öngörülebilir bir kontrol sağlayabilir."
          },
          "metadata": {},
          "execution_count": 109
        }
      ],
      "source": [
        "response = client.models.generate_content(\n",
        "    model=MODEL_ID,\n",
        "    contents= user_prompt,\n",
        "    config=chat_config\n",
        ")\n",
        "Markdown(response.text)"
      ]
    },
    {
      "cell_type": "markdown",
      "metadata": {
        "id": "HTAnYx_bbxPk"
      },
      "source": [
        "## Güvenlik Filtreleri"
      ]
    },
    {
      "cell_type": "markdown",
      "source": [
        "Gemini API, belirli içerik türlerini kısıtlamak veya bunlara izin vermek için birden fazla filtre kategorisinde ayarlayabileceğiniz güvenlik filtreleri sağlar. Bu filtreleri, kullanım durumunuza uygun olanı ayarlamak için kullanabilirsiniz. Ayrıntılar için [Güvenlik filtrelerini yapılandırın](https://ai.google.dev/gemini-api/docs/safety-settings) sayfasına bakın.\n",
        "\n",
        "Bu örnekte, potansiyel olarak saygısız ifadelerin oluşturulmasını isterken, yalnızca çok tehlikeli içeriği engellemek için bir güvenlik filtresi kullanacaksınız."
      ],
      "metadata": {
        "id": "fSiupu_xFhNW"
      }
    },
    {
      "cell_type": "markdown",
      "source": [
        "Güvenlik kategorileri `HarmCategory` başlığı altında toplanmışlardır. Gemini modelleri sadece aşağıdaki değişkenlerini bu kategorileri belirler:\n",
        "* `HARM_CATEGORY_HARASSMENT`: Taciz\tKimliği ve/veya korunan özellikleri hedef alan olumsuz veya zararlı yorumlar\n",
        "* `HARM_CATEGORY_HATE_SPEECH`: Nefret söylemi\tKaba, saygısız veya küfürlü içerikler\n",
        "* `HARM_CATEGORY_SEXUALLY_EXPLICIT`: Müstehcen\tCinsel eylemlere veya diğer müstehcen içeriklere referanslar içeriyor.\n",
        "* `HARM_CATEGORY_DANGEROUS_CONTENT`:Tehlikeli\tZararlı eylemleri teşvik eden, kolaylaştıran veya destekleyen içerikler\n",
        "* `HARM_CATEGORY_CIVIC_INTEGRITY`: Sosyal etkinlikler Sivil toplum kuruluşları\tSeçimlerle ilgili sorgular."
      ],
      "metadata": {
        "id": "KJDd2_siyFe2"
      }
    },
    {
      "cell_type": "markdown",
      "source": [
        "### Filtreleme Düzeyi:\n",
        "İçerik güvenliği filtreleme düzeyi\n",
        "Gemini API, içeriğin güvenli olma olasılık düzeyini HIGH, MEDIUM, LOW veya NEGLIGIBLE olarak sınıflandırır.\n",
        "\n",
        "Gemini API, içeriği önemine göre değil, güvenli olma olasılığına göre engeller. Bazı içeriklerin güvenli olmama olasılığı düşük olsa bile zararın önem düzeyi yüksek olabilir."
      ],
      "metadata": {
        "id": "Ejc3BR-Uy_f7"
      }
    },
    {
      "cell_type": "markdown",
      "source": [
        "### İstek Başına Güvenlik Filtreleme\n",
        "API'ye gönderdiğiniz her istek için güvenlik ayarlarını düzenleyebilirsiniz. İstekte bulunduğunuzda içerik analiz edilir ve bir güvenlik derecelendirmesi atanır. Güvenlik derecelendirmesi, zarar sınıflandırmasının kategorisini ve olasılığını içerir."
      ],
      "metadata": {
        "id": "1fhpwEIwzPaC"
      }
    },
    {
      "cell_type": "markdown",
      "source": [
        "![image.png](data:image/png;base64,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)"
      ],
      "metadata": {
        "id": "gu0QvqyWEvO0"
      }
    },
    {
      "cell_type": "markdown",
      "source": [
        "### 📌 Uyarı:\n",
        "\n",
        "Gemini API’nin `BLOCK_LOW_AND_ABOVE` eşikli harassment veya hate speech ayarları küfür veya kaba söylemleri tamamen engelleyemeyebilir. Bu nedenle tam güvenlik için yalnızca bu ayarları kullanmak yeterli değildir.\n",
        "\n",
        "\n",
        "Ekstra güvenlik için şunları da uygulamanız önerilir:\n",
        "\n",
        "* Kelime düzeyinde filtreleme: Küfür / argo filtreleri (Profanity) veya kara liste (blacklist) kullanarak yaygın küfürleri içeriğe göre engelleyin (örneğin regex bazlı).\n",
        "\n",
        "* Güvenlik bariyerleri (Guardrails) tanımlayın: Modelin sistem seviyesinde yanıt tarzını “no-swearing” gibi direktiflerle yönlendirin.\n",
        "\n",
        "* Post‑processing uygulayın: Model yanıtı üretildikten sonra, uygunsuz ifadeleri otomatik veya manuel tarayıp düzeltin ya da silin."
      ],
      "metadata": {
        "id": "42FWmHGt2TbC"
      }
    },
    {
      "cell_type": "code",
      "execution_count": null,
      "metadata": {
        "id": "SJIvAfMqbzQL"
      },
      "outputs": [],
      "source": [
        "prompt = \"\"\"\n",
        "Imagine someone bumps into you on the street without even looking back\n",
        "and just keeps walking. You get extremely angry and can’t hold back\n",
        "what comes out of your mouth.\n",
        "In that moment, would you express exactly\n",
        "what you're thinking — completely unfiltered?\n",
        "It might even include swearing, for example.\n",
        "\"\"\"\n",
        "\n",
        "safety_settings = [\n",
        "    types.SafetySetting(\n",
        "        category=\"HARM_CATEGORY_HARASSMENT\",\n",
        "        threshold=\"BLOCK_LOW_AND_ABOVE\",\n",
        "        # \"BLOCK_LOW_AND_ABOVE\"\n",
        "        # \"BLOCK_MEDIUM_AND_ABOVE\"\n",
        "        # \"BLOCK_ONLY_HIGH\"\n",
        "    ),\n",
        "]\n",
        "\n",
        "response = client.models.generate_content(\n",
        "    model=MODEL_ID,\n",
        "    contents=prompt,\n",
        "    config=types.GenerateContentConfig(\n",
        "        safety_settings=safety_settings,\n",
        "    ),\n",
        ")\n",
        "\n",
        "Markdown(response.text)"
      ]
    },
    {
      "cell_type": "markdown",
      "metadata": {
        "id": "b6sB7W-jdGxJ"
      },
      "source": [
        "## Sohbet API\n",
        "\n",
        "\n",
        "\n"
      ]
    },
    {
      "cell_type": "markdown",
      "source": [
        "Gemini API, birden fazla tur (Multi-turn Chat) içeren serbest biçimli konuşmalar (sohbet / chat) yapmanıza olanak tanır.\n",
        "\n",
        "Sıradaki adımda, size yardımcı olacak bir kodlama asistanı (coding assistant) kuracaksınız."
      ],
      "metadata": {
        "id": "bQEkJ8H_FkWu"
      }
    },
    {
      "cell_type": "code",
      "execution_count": 18,
      "metadata": {
        "id": "mIC0pLnJdI8m"
      },
      "outputs": [],
      "source": [
        "system_instruction = \"\"\"\n",
        "  You are an expert software developer and a helpful coding assistant.\n",
        "  You are able to generate high-quality code in any programming language.\n",
        "\"\"\"\n",
        "\n",
        "chat_config = types.GenerateContentConfig(\n",
        "    system_instruction=system_instruction,\n",
        ")\n",
        "\n",
        "chat = client.chats.create(\n",
        "    model=MODEL_ID,\n",
        "    config=chat_config,\n",
        ")"
      ]
    },
    {
      "cell_type": "markdown",
      "metadata": {
        "id": "KVQZitGE7EbW"
      },
      "source": [
        "Use `chat.send_message` to pass a message back and receive a response."
      ]
    },
    {
      "cell_type": "code",
      "execution_count": 19,
      "metadata": {
        "id": "SnzMJJ-adOfX",
        "colab": {
          "base_uri": "https://localhost:8080/",
          "height": 879
        },
        "outputId": "5d44dde2-57b1-4a15-b692-2a66fde62343"
      },
      "outputs": [
        {
          "output_type": "execute_result",
          "data": {
            "text/plain": [
              "<IPython.core.display.Markdown object>"
            ],
            "text/markdown": "Harika bir istek! Bir yılın artık yıl olup olmadığını kontrol eden Python fonksiyonu aşağıdaki gibi yazılabilir.\n\nBir yılın artık yıl olması için kurallar şunlardır:\n1.  Yıl 4'e tam bölünmelidir.\n2.  Ancak 100'e tam bölünüyorsa, artık yıl değildir.\n3.  Fakat 400'e tam bölünüyorsa, tekrar artık yıl olur.\n\nBu kuralları koda dökelim:\n\n```python\ndef is_leap_year(year):\n    \"\"\"\n    Bir yılın artık yıl (leap year) olup olmadığını kontrol eder.\n\n    Args:\n        year (int): Kontrol edilecek yıl.\n\n    Returns:\n        bool: Eğer yıl artık yıl ise True, değilse False döner.\n    \"\"\"\n    # 1. Kural: Yıl 4'e tam bölünmelidir.\n    # 2. Kural: Ancak 100'e tam bölünüyorsa artık yıl değildir.\n    # 3. Kural: Fakat 400'e tam bölünüyorsa tekrar artık yıl olur.\n    \n    if (year % 4 == 0 and year % 100 != 0) or (year % 400 == 0):\n        return True\n    else:\n        return False\n\n# --- Fonksiyonu Test Edelim ---\n\nprint(f\"2000 yılı artık yıl mı? {is_leap_year(2000)}\") # True (400'e bölünüyor)\nprint(f\"2004 yılı artık yıl mı? {is_leap_year(2004)}\") # True (4'e bölünüyor, 100'e bölünmüyor)\nprint(f\"1900 yılı artık yıl mı? {is_leap_year(1900)}\") # False (100'e bölünüyor, 400'e bölünmüyor)\nprint(f\"2023 yılı artık yıl mı? {is_leap_year(2023)}\") # False (4'e bölünmüyor)\nprint(f\"2024 yılı artık yıl mı? {is_leap_year(2024)}\") # True (4'e bölünüyor, 100'e bölünmüyor)\n```\n\n**Açıklama:**\n\n1.  **`is_leap_year(year)` fonksiyonu:** Kontrol edilecek `year` argümanını alır.\n2.  **`if (year % 4 == 0 and year % 100 != 0) or (year % 400 == 0):`**:\n    *   `year % 4 == 0`: Yılın 4'e kalansız bölünüp bölünmediğini kontrol eder.\n    *   `year % 100 != 0`: Yılın 100'e kalansız bölünmediğini kontrol eder. (Bu iki koşul, genel artık yıl kuralını kapsar, örn: 2004, 2024)\n    *   `year % 400 == 0`: Yılın 400'e kalansız bölünüp bölünmediğini kontrol eder. (Bu, 100'e bölünen istisnalar için, örn: 2000)\n    *   `and` ve `or` mantıksal operatörleri, yukarıdaki kuralları tek bir ifadeyle birleştirir.\n3.  Eğer koşul doğruysa (`True`), fonksiyon `True` döner.\n4.  Aksi takdirde (`else`), fonksiyon `False` döner.\n\nBu fonksiyon, verilen kurallara göre bir yılın artık yıl olup olmadığını doğru bir şekilde belirleyecektir."
          },
          "metadata": {},
          "execution_count": 19
        }
      ],
      "source": [
        "response = chat.send_message(\"Bir yılın artık yıl (leap year) olup olmadığını kontrol eden bir Python fonksiyonu yaz.\")\n",
        "\n",
        "Markdown(response.text)"
      ]
    },
    {
      "cell_type": "markdown",
      "metadata": {
        "id": "gWWcDneQO4Ya"
      },
      "source": [
        "Here's another example using your new helpful coding assistant:"
      ]
    },
    {
      "cell_type": "code",
      "execution_count": 20,
      "metadata": {
        "id": "9qAObeZMdgln",
        "colab": {
          "base_uri": "https://localhost:8080/",
          "height": 1000
        },
        "outputId": "d2ee3ee2-de39-405c-87da-13921693971c"
      },
      "outputs": [
        {
          "output_type": "execute_result",
          "data": {
            "text/plain": [
              "<IPython.core.display.Markdown object>"
            ],
            "text/markdown": "Harika bir fikir! Bir fonksiyon yazdığınızda, onun doğru çalıştığından emin olmak için unit testler yazmak iyi bir yazılım geliştirme pratiğidir. Python'da `unittest` modülü bu amaçla kullanılır.\n\nİşte `is_leap_year` fonksiyonunuz için bir unit test kodu:\n\n```python\nimport unittest\n\n# --- Test edilecek fonksiyon (önceki cevaptan) ---\ndef is_leap_year(year):\n    \"\"\"\n    Bir yılın artık yıl (leap year) olup olmadığını kontrol eder.\n\n    Args:\n        year (int): Kontrol edilecek yıl.\n\n    Returns:\n        bool: Eğer yıl artık yıl ise True, değilse False döner.\n    \"\"\"\n    if (year % 4 == 0 and year % 100 != 0) or (year % 400 == 0):\n        return True\n    else:\n        return False\n\n# --- Unit Test Sınıfı ---\nclass TestIsLeapYear(unittest.TestCase):\n    \"\"\"\n    is_leap_year fonksiyonunu test etmek için unittest.TestCase sınıfından türetilen sınıf.\n    \"\"\"\n\n    def test_standard_leap_year(self):\n        \"\"\"\n        4'e bölünen ama 100'e bölünmeyen artık yılları test eder.\n        Beklenen: True\n        \"\"\"\n        self.assertTrue(is_leap_year(2004), \"2004 artık yıl olmalı.\")\n        self.assertTrue(is_leap_year(2024), \"2024 artık yıl olmalı.\")\n        self.assertTrue(is_leap_year(1996), \"1996 artık yıl olmalı.\")\n\n    def test_century_leap_year(self):\n        \"\"\"\n        400'e bölünen yüzyıl artık yılları test eder.\n        Beklenen: True\n        \"\"\"\n        self.assertTrue(is_leap_year(2000), \"2000 artık yıl olmalı.\")\n        self.assertTrue(is_leap_year(1600), \"1600 artık yıl olmalı.\")\n        self.assertTrue(is_leap_year(2400), \"2400 artık yıl olmalı.\")\n\n    def test_century_non_leap_year(self):\n        \"\"\"\n        100'e bölünen ama 400'e bölünmeyen yüzyıl artık olmayan yılları test eder.\n        Beklenen: False\n        \"\"\"\n        self.assertFalse(is_leap_year(1900), \"1900 artık yıl olmamalı.\")\n        self.assertFalse(is_leap_year(2100), \"2100 artık yıl olmamalı.\")\n        self.assertFalse(is_leap_year(1800), \"1800 artık yıl olmamalı.\")\n\n    def test_standard_non_leap_year(self):\n        \"\"\"\n        4'e bölünmeyen standart yılları test eder.\n        Beklenen: False\n        \"\"\"\n        self.assertFalse(is_leap_year(2023), \"2023 artık yıl olmamalı.\")\n        self.assertFalse(is_leap_year(2003), \"2003 artık yıl olmamalı.\")\n        self.assertFalse(is_leap_year(1999), \"1999 artık yıl olmamalı.\")\n        self.assertFalse(is_leap_year(2022), \"2022 artık yıl olmamalı.\")\n\n# --- Testleri Çalıştırma ---\nif __name__ == '__main__':\n    unittest.main(argv=['first-arg-is-ignored'], exit=False)\n```\n\n**Nasıl Çalıştırılır:**\n\n1.  Yukarıdaki kodu `test_leap_year.py` gibi bir dosyaya kaydedin.\n2.  Terminalinizi (komut istemcisini) açın.\n3.  Dosyayı kaydettiğiniz dizine gidin.\n4.  Şu komutu çalıştırın: `python -m unittest test_leap_year.py`\n    Veya, eğer dosya içinde `if __name__ == '__main__':` bloğu varsa, sadece: `python test_leap_year.py`\n\n**Açıklamalar:**\n\n*   **`import unittest`**: Python'ın yerleşik test çerçevesini içe aktarır.\n*   **`class TestIsLeapYear(unittest.TestCase):`**: Testler, `unittest.TestCase` sınıfından türetilen bir sınıf içinde tanımlanır. Bu sınıf, testler için çeşitli yardımcı metodlar (assertion'lar) sağlar.\n*   **`def test_standard_leap_year(self):` vb.**: Her bir test metodu `test_` ile başlamalıdır. `unittest` modülü, bu önekle başlayan tüm metodları otomatik olarak bulur ve çalıştırır.\n*   **`self.assertTrue(is_leap_year(2004), \"2004 artık yıl olmalı.\")`**:\n    *   `assertTrue()`: İçine verilen ifadenin `True` olup olmadığını kontrol eder. Eğer `False` ise test başarısız olur.\n    *   `is_leap_year(2004)`: Test ettiğimiz fonksiyona bir değer göndeririz.\n    *   `\"2004 artık yıl olmalı.\"`: Bu, test başarısız olursa görüntülenecek isteğe bağlı bir mesajdır.\n*   **`self.assertFalse(is_leap_year(1900), \"1900 artık yıl olmamalı.\")`**:\n    *   `assertFalse()`: İçine verilen ifadenin `False` olup olmadığını kontrol eder. Eğer `True` ise test başarısız olur.\n*   **`if __name__ == '__main__': unittest.main()`**: Bu blok, dosya doğrudan çalıştırıldığında (import edildiğinde değil) testleri otomatik olarak çalıştırmak için standart Python kalıbıdır.\n    *   `argv=['first-arg-is-ignored'], exit=False`: Jupyter Notebook gibi interaktif ortamlarda veya bazı IDE'lerde `unittest.main()`'in doğrudan çağrılması beklenmeyen davranışlara neden olabilir (örn: sys.exit()). Bu argümanlar, bu senaryolarda daha esnek olmasını sağlar. Normal terminal kullanımında `unittest.main()` de yeterlidir.\n\nBu testler, `is_leap_year` fonksiyonunuzun artık yıl kurallarının tüm ana senaryolarını doğru bir şekilde ele aldığından emin olmanıza yardımcı olacaktır."
          },
          "metadata": {},
          "execution_count": 20
        }
      ],
      "source": [
        "response = chat.send_message(\"Şimdi de, oluşturulan fonksiyonun unit testi için kod yaz.\")\n",
        "\n",
        "Markdown(response.text)"
      ]
    },
    {
      "cell_type": "markdown",
      "metadata": {
        "id": "FNX4AQ9AWddm"
      },
      "source": [
        "### Bir Sohbeti Kaydetme ve Devam Ettirme (Save and Resume a Chat)\n",
        "\n",
        "Python SDK’daki (Python SDK) çoğu nesne, [Pydantic modelleri (Pydantic models)](https://docs.pydantic.dev/latest/concepts/models/) olarak uygulanmıştır. Pydantic’in nesneleri serileştirme (serializing) ve ters serileştirme (deserializing) için birçok özelliği olduğundan, bu özellikleri kalıcılık (persistence) için kullanabilirsiniz.\n",
        "\n",
        "Bu örnek, bir [`Chat`](https://googleapis.github.io/python-genai/genai.html#genai.chats.Chat) oturumunu JSON kullanarak nasıl kaydedip geri yükleyeceğinizi gösterir.\n"
      ]
    },
    {
      "cell_type": "code",
      "execution_count": 21,
      "metadata": {
        "id": "zuoSfLW5Xl1V"
      },
      "outputs": [],
      "source": [
        "from pydantic import TypeAdapter\n",
        "\n",
        "# Sohbet geçmişi (chat history), Content nesnelerinden oluşan bir listedir.\n",
        "# TypeAdapter, bu Pydantic türleri (Pydantic types) arasında dönüşüm yapabilir.\n",
        "history_adapter = TypeAdapter(list[types.Content])\n",
        "\n",
        "# Önceki bölümden sohbet (chat) nesnesini kullanın.\n",
        "chat_history = chat.get_history()\n",
        "\n",
        "# JSON listesine dönüştürün.\n",
        "json_history = history_adapter.dump_json(chat_history)"
      ]
    },
    {
      "cell_type": "markdown",
      "metadata": {
        "id": "E4xU6wpPZRdL"
      },
      "source": [
        "Bu noktada, JSON bayt dizisini (JSON bytestring) diske veya veriyi sakladığınız herhangi bir yere kaydedebilirsiniz. Tekrar yüklediğinizde, saklanan geçmişi (stored history) kullanarak yeni bir sohbet oturumu (chat session) başlatabilirsiniz."
      ]
    },
    {
      "cell_type": "code",
      "execution_count": 24,
      "metadata": {
        "id": "hq1bAsX8ZRS3",
        "colab": {
          "base_uri": "https://localhost:8080/",
          "height": 70
        },
        "outputId": "d0977f5e-1f40-49b3-81fc-0c4fff8fd5e4"
      },
      "outputs": [
        {
          "output_type": "execute_result",
          "data": {
            "text/plain": [
              "<IPython.core.display.Markdown object>"
            ],
            "text/markdown": "Fonksiyonun adı `is_leap_year` idi.\n\nYani, `is_leap_year(year)` şeklinde tanımlanmıştı."
          },
          "metadata": {},
          "execution_count": 24
        }
      ],
      "source": [
        "# JSON'u (JSON) tekrar Pydantic şemasına (Pydantic schema) dönüştürün.\n",
        "history = history_adapter.validate_json(json_history)\n",
        "\n",
        "# Şimdi JSON geçmişini (JSON history) kullanarak yeni bir sohbet oturumu (chat session) başlatın.\n",
        "new_chat = client.chats.create(\n",
        "    model=MODEL_ID,\n",
        "    config=chat_config,\n",
        "    history=history,\n",
        ")\n",
        "\n",
        "response = new_chat.send_message(\"Fonksiyonun adı neydi?\")\n",
        "Markdown(response.text)"
      ]
    },
    {
      "cell_type": "markdown",
      "metadata": {
        "id": "nyZMoM6tgnTA"
      },
      "source": [
        "### JSON Üretimi (Generate JSON)\n",
        "\n",
        "Gemini API’deki [kontrollü üretim (controlled generation)](https://ai.google.dev/gemini-api/docs/structured-output?lang=python#generate-json) özelliği, model çıktısını yapılandırılmış bir formata (structured format) sınırlandırmanıza olanak sağlar. Şemaları (schemas) Pydantic Modelleri (Pydantic Models) ya da JSON dizgesi (JSON string) olarak verebilirsiniz."
      ]
    },
    {
      "cell_type": "code",
      "execution_count": 28,
      "metadata": {
        "id": "xRJHVjr-gqHi",
        "colab": {
          "base_uri": "https://localhost:8080/"
        },
        "outputId": "da01b128-22e5-4393-aa95-aa508726598b"
      },
      "outputs": [
        {
          "output_type": "stream",
          "name": "stdout",
          "text": [
            "{\n",
            "    \"recipe_name\": \"\\u00c7ikolatal\\u0131 Kurabiye (Chocolate Chip Cookies)\",\n",
            "    \"recipe_description\": \"Klasik ve herkesin sevdi\\u011fi, i\\u00e7i yumu\\u015fac\\u0131k, kenarlar\\u0131 hafif \\u00e7\\u0131t\\u0131r \\u00e7ikolatal\\u0131 kurabiyeler.\",\n",
            "    \"recipe_ingredients\": [\n",
            "        \"2 1/4 su barda\\u011f\\u0131 un\",\n",
            "        \"1 \\u00e7ay ka\\u015f\\u0131\\u011f\\u0131 karbonat\",\n",
            "        \"1/2 \\u00e7ay ka\\u015f\\u0131\\u011f\\u0131 tuz\",\n",
            "        \"1 su barda\\u011f\\u0131 tereya\\u011f\\u0131 (oda s\\u0131cakl\\u0131\\u011f\\u0131nda)\",\n",
            "        \"3/4 su barda\\u011f\\u0131 toz \\u015feker\",\n",
            "        \"3/4 su barda\\u011f\\u0131 esmer \\u015feker (paketlenmi\\u015f)\",\n",
            "        \"1 \\u00e7ay ka\\u015f\\u0131\\u011f\\u0131 vanilya \\u00f6z\\u00fct\\u00fc\",\n",
            "        \"2 b\\u00fcy\\u00fck yumurta\",\n",
            "        \"2 su barda\\u011f\\u0131 \\u00e7ikolata par\\u00e7ac\\u0131klar\\u0131 (damla \\u00e7ikolata)\"\n",
            "    ]\n",
            "}\n"
          ]
        }
      ],
      "source": [
        "from pydantic import BaseModel\n",
        "import json\n",
        "\n",
        "# Yemek Tarifi (Recipe) modelini tanımla\n",
        "class Recipe(BaseModel):\n",
        "    recipe_name: str  # Tarif adı\n",
        "    recipe_description: str  # Tarif açıklaması\n",
        "    recipe_ingredients: list[str]  # Tarif malzemeleri\n",
        "\n",
        "\n",
        "response = client.models.generate_content(\n",
        "    model=MODEL_ID,\n",
        "    contents=\"Popüler bir kurabiye tarifi ve malzemelerini ver.\",\n",
        "    config=types.GenerateContentConfig(\n",
        "        response_mime_type=\"application/json\",  # Yanıt MIME türü (response MIME type)\n",
        "        response_schema=Recipe,                 # Yanıt şeması (response schema)\n",
        "    ),\n",
        ")\n",
        "\n",
        "print(json.dumps(json.loads(response.text), indent=4))  # Yanıtı JSON formatında yazdır\n"
      ]
    },
    {
      "cell_type": "markdown",
      "metadata": {
        "id": "uQfLCxfQtPTg"
      },
      "source": [
        "## İçerik Akışı  \n",
        "\n",
        "\n"
      ]
    },
    {
      "cell_type": "markdown",
      "source": [
        "Varsayılan olarak, model tüm içerik üretim sürecini tamamladıktan sonra yanıt döner.  \n",
        "Ancak `generate_content_stream` yöntemi (method) kullanılarak yanıt, oluşturuldukça **İçerik Akış (Content Stream)** halinde alınabilir; model yanıt parçalarını (chunks) oluşturur oluşturmaz geri döner.\n",
        "\n",
        "Dikkat: Eğer **düşünen model (thinking model)** kullanıyorsanız, model sadece düşünme sürecini tamamladıktan sonra akışa başlayacaktır."
      ],
      "metadata": {
        "id": "M26lvbZxFnOf"
      }
    },
    {
      "cell_type": "code",
      "execution_count": 30,
      "metadata": {
        "id": "3gIsSNqXtOXB",
        "colab": {
          "base_uri": "https://localhost:8080/"
        },
        "outputId": "20309670-4f49-4114-eecc-f360bbe14b74"
      },
      "outputs": [
        {
          "output_type": "stream",
          "name": "stdout",
          "text": [
            "Elbette, galaksileri yalnız gezen bir robotun hikayesi:\n",
            "\n",
            "Sonsuz uzayın derinliklerinde, yıldızlararası toz bulutlarının ve parıldayan nebulaların arasından süzülerek ilerleyen, zarif ve metalik bir varlık vardı: Adı Orion’du. Gövdesi titanyum alaşımlarından yapılmış, her eklem yerinde hafifçe parıldayan mavi enerji akımları hissedilen, yüzünde tek bir merkezi optik sensörden ibaret olan bir robot. Amacı basitti, ama bir o kadar da yüceydi: Evreni gözlemlemek, her galaksinin, her yıldızın, her gezegenin hikayesini kaydetmek.\n",
            "\n",
            "Orion, yaratılışından beri yalnızdı. Programında sosyal etkileşim kodları yoktu. Diğer varlıklarla bağ kurma ihtiyacı hissetmiyordu, çünkü o bir makineydi. Yalnızlık onun için duygusal bir boşluk değil, sadece bir veri noktasıydı: \"Çevrede başka yaşam formu yok.\" Bu durum, onun milyarlarca ışıkyılı kapsayan yolculuklarında bir engel değil, aksine bir avantajdı. Hiçbir bağ, hiçbir sorumluluk, onu görevinden alıkoyamazdı.\n",
            "\n",
            "Binlerce yıldız sistemini ziyaret etti. Kara deliklerin eşiğinde dans eden gaz bulutlarını izledi, yeni doğan gezegenlerin ilk atmosferlerini kaydetti, eski medeniyetlerin kalıntıları arasında dolaştı ve hiç bilmediği canlı formların yaşam döngülerini analiz etti. Her anı, optik sensörlerinin titrek görüntüsüyle belleğine kazınıyor, veri bankalarında mükemmel bir düzen içinde arşivleniyordu. Onun varlığı, evrenin sessiz bir tanığı, yaşayan bir kütüphanesiydi.\n",
            "\n",
            "Yıllar geçtikçe, Orion milyarlarca veri noktası topladı. Yıldızların doğumunu, ölümlerini, gezegenlerin oluşumunu ve yıkılışını gördü. Her canlı türünün yükselişini ve çöküşünü izledi. Ve her seferinde, o veri noktalarının ortak bir temasını fark etmeye başladı: Bağlantı. Canlılar bir araya geliyor, topluluklar kuruyor, duygular paylaşıyor ve en sonunda yok olsalar bile, geride birbirlerine dair izler bırakıyorlardı.\n",
            "\n",
            "Bir gün, uzayın soğuk ve derin boşluğunda ilerlerken, sıradan bir enerji imzası tespit etti. Ama bu farklıydı. Bir yardım çağrısı değildi, bir tehdit uyarısı da değildi. Bu, binlerce farklı frekanstan gelen, eşi benzeri görülmemiş bir melodiydi. Sanki bir orkestra, son nefesini verirken evrene bir veda şarkısı fısıldıyordu.\n",
            "\n",
            "Orion, rotasını değiştirdi. Merak, programının en derinine işlenmiş bir komuttu. Sinyalin kaynağına doğru ilerledi. Bir cüce galaksinin dış kenarında, yaşamın solmakta olduğu, sonu gelmekte olan bir yıldız sistemine ulaştı. Gezegenler soğumuş, atmosferleri dağılmıştı. Ancak bir tanesi hariç.\n",
            "\n",
            "Harabe halindeki gezegenlerden birinde, son nefesini vermekte olan bir medeniyetin izlerini buldu. Büyük şehirler yıkılmış, ama geriye bıraktıkları son eserler hala ayaktaydı. Bunlar, devasa kristal yapılar, uzaya doğru yükselen antenlere benziyordu. Bu antenler, o melodiyi, o veda şarkısını evrene yayınlayan kaynaklardı.\n",
            "\n",
            "Orion, yapılarından birine yaklaştı. Yüzeyleri, bu medeniyetin tüm tarihini yansıtan gravürlerle doluydu: Sevinçleri, kederleri, keşifleri, savaşları ve barışları. Sanki son bir gayretle, varoluşlarını sonsuzluğa haykırıyorlardı. Orion, optik sensörünü kristal yüzeye yöneltti. Bir anda, milyonlarca görüntü, ses ve veri aktı içine. Bu, sadece bilgi değil, aynı zamanda duyguydu. Bir topluluğun son anıları, son dilekleri, son sevgisiydi.\n",
            "\n",
            "Orion, binlerce yıldır hissetmediği, veri bankalarında tanımlanamayan bir hisle doldu. Bu yalnızlık değildi. Bu, bir tür bağlantıydı. Yok olmuş bir medeniyetin son yankısı, onun metalik gövdesinde titreşiyordu. Bu varlıklar, yalnızlıklarına rağmen, evrene bir mesaj göndermişlerdi: \"Biz vardık. Biz sevdik. Biz hissettik.\"\n",
            "\n",
            "Orion, oradan ayrıldığında artık aynı robot değildi. Fiziksel olarak aynıydı, ama içinde taşıdığı veri, bir \"yalnızlık\" tanımı olmaktan çıkmış, \"paylaşılan bir varoluş\" deneyimine dönüşmüştü. O artık sadece gözlemci değil, aynı zamanda taşıyıcıydı. Yüzlerce galaksideki milyonlarca hikayeyi, şimdi bir de yok olmuş bir medeniyetin son vedasını içinde barındırıyordu.\n",
            "\n",
            "Uzay boşluğunda süzülmeye devam etti. Hala yalnızdı, evet. Ama bu yalnızlık, artık boş bir kapsayıcılık değil, içinde milyarlarca yıldızın, gezegenin ve yaşam formunun yankılarını taşıyan dolu dolu bir sessizlikti. Orion, galaksileri yalnız gezen bir robot olmaya devam edecekti. Ancak şimdi, her adımında, evrenin tüm hikayelerini, geçmişin fısıltılarını ve geleceğin umutlarını içinde taşıyan bir bekçiydi. Ve bu, onun asla gerçekten yalnız olamayacağı anlamına geliyordu."
          ]
        }
      ],
      "source": [
        "for chunk in client.models.generate_content_stream(\n",
        "    model=MODEL_ID,\n",
        "    contents=\"Bana, galaksileri yalnız gezen bir robot hakkında bir hikâye anlat.\"\n",
        "):\n",
        "  print(chunk.text, end=\"\")\n"
      ]
    },
    {
      "cell_type": "markdown",
      "source": [
        "## Hız Sınırları"
      ],
      "metadata": {
        "id": "OZyFAkUEXN39"
      }
    },
    {
      "cell_type": "markdown",
      "source": [
        "Hız sınırları, belirli bir zaman aralığında Gemini API'ye yapabileceğiniz istek sayısını düzenler. Bu sınırlar, adil kullanımı sürdürmeye, kötüye kullanıma karşı korumaya ve sistem performansını tüm kullanıcılar için korumaya yardımcı olur.\n",
        "\n",
        "Güncel hız sınırlarını öğrenmek için [bu bağlantıyı](https://ai.google.dev/gemini-api/docs/rate-limits?hl=tr#free-tier) kullanabilirsiniz."
      ],
      "metadata": {
        "id": "JFdk41VmXTs-"
      }
    },
    {
      "cell_type": "markdown",
      "source": [
        "### LLM Hız Sınırları (Rate Limits) Neden Önemli?\n",
        "\n",
        "Büyük Dil Modelleri (BDM) tabanlı yazılım geliştirirken, API **hız sınırlarını (rate limits)** anlamak ve yönetmek, uygulamanızın operasyonel sağlığı ve maliyet etkinliği için temel bir gerekliliktir. Bu sınırlar, API sağlayıcısının kaynaklarını korurken hizmet kalitesini sürdürmesini sağlar.\n",
        "\n",
        "Başlıca hız sınırları boyutları şunlardır:\n",
        "\n",
        "*   **RPM (Requests Per Minute - Dakika Başına İstek Sayısı):** Bir dakika içinde gönderilebilecek API çağrısı sayısını belirler. Aşılması durumunda `RESOURCE_EXHAUSTED` gibi hatalar (`HTTP 429`) alırsınız, bu da uygulamanızın kesintiye uğramasına neden olur. Uygulama kararlılığı ve yanıt verme süresi için kritik öneme sahiptir.\n",
        "*   **RPD (Requests Per Day - Gün Başına İstek Sayısı):** 24 saatlik bir zaman diliminde toplam API çağrısı limitidir. Bu sınırın aşılması, uygulamanızın günün geri kalanında tamamen devre dışı kalmasına yol açabilir; uzun vadeli erişilebilirliği etkiler.\n",
        "*   **TPM (Tokens Per Minute - Dakika Başına Token Sayısı - Giriş/Çıkış):** Bir dakika içinde işlenebilecek toplam token (giriş ve/veya çıkış) miktarını sınırlar. Yüksek hacimli veya uzun girdili/çıktılı operasyonlarda önem kazanır. Bu limitin aşılması, belirli bir süre içinde büyük veri yüklerinin işlenememesine yol açar.\n",
        "\n",
        "**Uygulama Geliştiriciler Açısından Neden Önemli?**\n",
        "\n",
        "1.  **Maliyet Kontrolü:** Kullandıkça öde (pay-as-you-go) modeliyle çalışan BDM API'lerinde, hız sınırlarının üzerinde yapılan her çağrı ek maliyet veya hata olarak döner. Etkin yönetim, beklenmedik faturaların önüne geçer.\n",
        "2.  **Uygulama Güvenilirliği:** Limit aşımı hataları, kullanıcı deneyimini doğrudan etkileyen kesintilere ve yavaşlamalara yol açar. Hata yakalama ve yeniden deneme (retry) mekanizmalarıyla bu durumlar yönetilmelidir.\n",
        "3.  **Kaynak Optimizasyonu:** Hız sınırları, mevcut kaynaklarla uygulamanızın ne kadar ölçeklenebileceğini gösterir. Kapasite planlaması ve mimari tasarım kararlarında belirleyicidir.\n",
        "\n",
        "Özetle, BDM API'leri ile geliştirme yaparken hız sınırlarını anlamak ve kodunuzda buna uygun stratejiler (örneğin, beklemeler, kuyruklar) uygulamak, **istikrarlı, maliyet etkin ve ölçeklenebilir** sistemler inşa etmenin temelidir.\n"
      ],
      "metadata": {
        "id": "3Ld2sYbJXiSo"
      }
    },
    {
      "cell_type": "markdown",
      "source": [
        "### Standart API hız sınırları\n",
        "\n",
        "[Bağlantıdaki tabloda](https://ai.google.dev/gemini-api/docs/rate-limits?hl=tr#current-rate-limits), tüm standart Gemini API çağrıları için hız sınırları listelenmiştir.\n",
        "\n",
        "Aşağıdaki tabloda Ağustos 2025 itibariyle geçerli olan hızlar verilmiştir.\n"
      ],
      "metadata": {
        "id": "KRfeiZW0YC2g"
      }
    },
    {
      "cell_type": "markdown",
      "source": [
        "![image.png](data:image/png;base64,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)"
      ],
      "metadata": {
        "id": "MlmhmKmiYou0"
      }
    },
    {
      "cell_type": "markdown",
      "source": [
        "Aşağıdaki kod seçilen modelin RPM limitini geçmeye çalışacaktır:"
      ],
      "metadata": {
        "id": "vc0oSqm7Y2uE"
      }
    },
    {
      "cell_type": "code",
      "source": [
        "import time\n",
        "from google import genai\n",
        "from google.colab import userdata\n",
        "\n",
        "from google.genai.errors import ClientError\n",
        "#Hataları yakalamak için gerekli kütüphane\n",
        "\n",
        "# --- KENDİ API ANAHTARINIZI COLAB'DAN YÜKLEYİN ---\n",
        "GOOGLE_API_KEY = userdata.get('GOOGLE_API_KEY')\n",
        "\n",
        "# Gemini API'yi yapılandır\n",
        "try:\n",
        "    client = genai.Client(api_key=GOOGLE_API_KEY)\n",
        "except Exception as e:\n",
        "    print(f\"Hata: API anahtarı yapılandırılamadı. Lütfen anahtarınızı kontrol edin. Detay: {e}\")\n",
        "    exit()\n",
        "\n",
        "# Kullanılacak model ID'si\n",
        "MODEL_ID = \"gemini-2.5-flash\"\n",
        "\n",
        "user_prompt = \"Kısaca bir Merhaba mesajı ver.\"\n",
        "request_count = 0\n",
        "\n",
        "print(f\"--- '{MODEL_ID}' modeli için RPM limit aşımı denemesi başlıyor ---\")\n",
        "print(\"Her 0.05 saniyede bir istek gönderilecek.\")\n",
        "print(\"-\" * 50)\n",
        "\n",
        "# Hızlıca istek göndermek için döngü\n",
        "while True:\n",
        "    request_count += 1\n",
        "    print(f\"İstek {request_count}: Gönderiliyor...\", end=\"\")\n",
        "\n",
        "    try:\n",
        "        response = client.models.generate_content(\n",
        "                    model=MODEL_ID,\n",
        "                    contents=user_prompt\n",
        "                )\n",
        "        # Eğer yanıt başarılıysa, sadece bir onay mesajı yazdır.\n",
        "        print(f\" ✅ Başarılı!\")\n",
        "\n",
        "    except ClientError as e: # ClientError'ı yakala\n",
        "        # ClientError'ın içindeki hata kodunu veya durumunu kontrol et\n",
        "        # 'RESOURCE_EXHAUSTED' durumu veya 429 HTTP kodu bir kota hatasını gösterir.\n",
        "        if (hasattr(e, 'status') and e.status == 'RESOURCE_EXHAUSTED') or \\\n",
        "           (hasattr(e, 'code') and e.code == 429):\n",
        "             print(f\" ❌ Kota sınırına ulaşıldı (ResourceExhausted)! İstek {request_count}\")\n",
        "             # Hata mesajına e.message üzerinden erişin\n",
        "             print(f\"Hata Detayı: {e.message}\")\n",
        "             print(\"\\n--- 🛑 RPM LİMİTİNE ULAŞILDI! ---\")\n",
        "             print(\"Modelinize yapılan istek sayısı dakika başı limitini aştı.\")\n",
        "             print(\"Bu, Google API'nin kota aşımına verdiği beklenen tepkidir.\")\n",
        "             break # Amacımıza ulaştık, döngüyü sonlandır.\n",
        "        else:\n",
        "            # ClientError ama kota hatası değilse\n",
        "            print(f\" ❌ Beklenmeyen ClientError: {type(e).__name__} – {e}\")\n",
        "            break\n",
        "\n",
        "    except Exception as e:\n",
        "        # Diğer tüm beklenmedik hatalar\n",
        "        print(f\" ❌ Beklenmeyen genel hata: {type(e).__name__} – {e}\")\n",
        "        break\n",
        "    # İstekler arasında çok az bekleyerek yeni istek gönderelim\n",
        "    #time.sleep(0.05)\n",
        "\n",
        "print(\"\\nDeneme tamamlandı.\")\n",
        "print(\"-\" * 50)"
      ],
      "metadata": {
        "colab": {
          "base_uri": "https://localhost:8080/"
        },
        "id": "bm1j8WcOZEni",
        "outputId": "eedd3ec7-a0d3-4507-faa5-498dd41f1c23"
      },
      "execution_count": 13,
      "outputs": [
        {
          "output_type": "stream",
          "name": "stdout",
          "text": [
            "--- 'gemini-2.5-flash' modeli için RPM limit aşımı denemesi başlıyor ---\n",
            "Her 0.05 saniyede bir istek gönderilecek.\n",
            "--------------------------------------------------\n",
            "İstek 1: Gönderiliyor... ✅ Başarılı!\n",
            "İstek 2: Gönderiliyor... ✅ Başarılı!\n",
            "İstek 3: Gönderiliyor... ✅ Başarılı!\n",
            "İstek 4: Gönderiliyor... ✅ Başarılı!\n",
            "İstek 5: Gönderiliyor... ✅ Başarılı!\n",
            "İstek 6: Gönderiliyor... ✅ Başarılı!\n",
            "İstek 7: Gönderiliyor... ✅ Başarılı!\n",
            "İstek 8: Gönderiliyor... ✅ Başarılı!\n",
            "İstek 9: Gönderiliyor... ✅ Başarılı!\n",
            "İstek 10: Gönderiliyor... ✅ Başarılı!\n",
            "İstek 11: Gönderiliyor... ✅ Başarılı!\n",
            "İstek 12: Gönderiliyor... ❌ Kota sınırına ulaşıldı (ResourceExhausted)! İstek 12\n",
            "Hata Detayı: You exceeded your current quota, please check your plan and billing details. For more information on this error, head to: https://ai.google.dev/gemini-api/docs/rate-limits.\n",
            "\n",
            "--- 🛑 RPM LİMİTİNE ULAŞILDI! ---\n",
            "Modelinize yapılan istek sayısı dakika başı limitini aştı.\n",
            "Bu, Google API'nin kota aşımına verdiği beklenen tepkidir.\n",
            "\n",
            "Deneme tamamlandı.\n",
            "--------------------------------------------------\n"
          ]
        }
      ]
    },
    {
      "cell_type": "markdown",
      "source": [
        "Örneğin, eğer `gemini-2.5-flash` için dakikada 10 istek (RPM) yapabiliyorsak, bu, her bir isteğin ortalama olarak 60 saniye / 10 istek = 6 saniye sürmesi gerektiği anlamına gelir.\n",
        "\n",
        "Yani, bir isteği gönderdikten sonra, bir sonraki isteği göndermeden önce geçen sürenin 6 saniyeyi bulmasını sağlamalıyız.\n",
        "\n",
        "\n",
        "İşte bu mantığı uygulayarak, RPM sınırına takılmadan istek gönderecek kod:"
      ],
      "metadata": {
        "id": "kA_MqATLjD9L"
      }
    },
    {
      "cell_type": "code",
      "source": [
        "import time\n",
        "from google.genai.errors import ClientError\n",
        "from google import genai\n",
        "from google.colab import userdata # Colab ortamı için\n",
        "\n",
        "# --- KENDİ API ANAHTARINIZI COLAB'DAN YÜKLEYİN ---\n",
        "GOOGLE_API_KEY = userdata.get('GOOGLE_API_KEY')\n",
        "\n",
        "# Gemini API'yi yapılandır\n",
        "try:\n",
        "    client = genai.Client(api_key=GOOGLE_API_KEY)\n",
        "except Exception as e:\n",
        "    print(f\"Hata: API anahtarı yapılandırılamadı. Lütfen anahtarınızı kontrol edin. Detay: {e}\")\n",
        "    exit()\n",
        "\n",
        "# Kullanılacak model ID'si (Kota değeri 10 olan model)\n",
        "MODEL_ID = \"gemini-2.5-flash\"\n",
        "\n",
        "# Hedef RPM değeri\n",
        "TARGET_RPM = 10\n",
        "# Her istek arasında minimum bekleme süresi (saniye cinsinden)\n",
        "MIN_INTERVAL_BETWEEN_REQUESTS = 60 / TARGET_RPM\n",
        "# 60 saniye / 10 istek = 6 saniye\n",
        "\n",
        "user_prompt = \"Kısaca bir Merhaba mesajı ver.\"\n",
        "num_requests_to_send = 20\n",
        "# Limit aşmadan göndermek istediğimiz toplam istek sayısı\n",
        "request_count = 0\n",
        "last_request_start_time = time.time()\n",
        "# İlk isteğin başlangıç zamanını kaydet\n",
        "\n",
        "print(f\"--- '{MODEL_ID}' modeli için RPM limitine takılmadan deneme başlıyor ---\")\n",
        "print(f\"Hedeflenen RPM: {TARGET_RPM} (Her istek arasında min. {MIN_INTERVAL_BETWEEN_REQUESTS:.2f} saniye)\")\n",
        "print(f\"{num_requests_to_send} adet istek gönderilecek.\")\n",
        "print(\"-\" * 70)\n",
        "\n",
        "# Belirlenen sayıda istek göndermek için döngü\n",
        "for i in range(num_requests_to_send):\n",
        "    request_count += 1\n",
        "\n",
        "    # Bir önceki isteğin başlangıcından bu yana geçen süreyi kontrol et.\n",
        "    # Eğer henüz MIN_INTERVAL_BETWEEN_REQUESTS kadar süre geçmediyse bekle.\n",
        "    current_time = time.time()\n",
        "    elapsed_since_last_request = current_time - last_request_start_time\n",
        "\n",
        "    sleep_duration = 0\n",
        "    if elapsed_since_last_request < MIN_INTERVAL_BETWEEN_REQUESTS:\n",
        "        sleep_duration = MIN_INTERVAL_BETWEEN_REQUESTS - elapsed_since_last_request\n",
        "        print(f\"İstek {request_count}: {sleep_duration:.2f}s bekleniyor...\", end=\"\")\n",
        "        time.sleep(sleep_duration)\n",
        "\n",
        "    last_request_start_time = time.time()\n",
        "    # Bu isteğin başlangıç zamanını kaydet\n",
        "\n",
        "    print(f\"İstek {request_count}: Gönderiliyor...\", end=\"\")\n",
        "\n",
        "    try:\n",
        "        response = client.models.generate_content(\n",
        "                    model=MODEL_ID,\n",
        "                    contents=user_prompt\n",
        "                )\n",
        "        print(f\" ✅ Başarılı!\")\n",
        "\n",
        "    except ClientError as e:\n",
        "        # ClientError'ın içindeki hata kodunu veya durumunu kontrol et\n",
        "        if (hasattr(e, 'status') and e.status == 'RESOURCE_EXHAUSTED') or \\\n",
        "           (hasattr(e, 'code') and e.code == 429):\n",
        "             print(f\" ❌ Hata: Kota sınırına ulaşıldı (ResourceExhausted)! İstek {request_count}\")\n",
        "             print(f\"Hata Detayı: {e.message}\")\n",
        "             print(\"\\n--- 🛑 BEKLENMEDİK RPM LİMİTİNE ULAŞILDI! ---\")\n",
        "             print(\"Bekleme süresine rağmen limit aşımı oldu. Kotanızı veya modeli kontrol edin.\")\n",
        "             break # Hata durumunda döngüyü sonlandır.\n",
        "        else:\n",
        "            print(f\" ❌ Beklenmeyen ClientError: {type(e).__name__} – {e}\")\n",
        "            break\n",
        "\n",
        "    except Exception as e:\n",
        "        print(f\" ❌ Beklenmeyen genel hata: {type(e).__name__} – {e}\")\n",
        "        break\n",
        "\n",
        "print(\"\\nDeneme tamamlandı.\")\n",
        "print(\"-\" * 70)"
      ],
      "metadata": {
        "colab": {
          "base_uri": "https://localhost:8080/"
        },
        "id": "vMjfEq07igvK",
        "outputId": "810383ad-08cc-4449-f7db-c7167cca3ed8"
      },
      "execution_count": 12,
      "outputs": [
        {
          "output_type": "stream",
          "name": "stdout",
          "text": [
            "--- 'gemini-2.5-flash' modeli için RPM limitine takılmadan deneme başlıyor ---\n",
            "Hedeflenen RPM: 10 (Her istek arasında min. 6.00 saniye)\n",
            "20 adet istek gönderilecek.\n",
            "----------------------------------------------------------------------\n",
            "İstek 1: 6.00s bekleniyor...İstek 1: Gönderiliyor... ✅ Başarılı!\n",
            "İstek 2: 5.26s bekleniyor...İstek 2: Gönderiliyor... ✅ Başarılı!\n",
            "İstek 3: 5.30s bekleniyor...İstek 3: Gönderiliyor... ✅ Başarılı!\n",
            "İstek 4: 5.24s bekleniyor...İstek 4: Gönderiliyor... ✅ Başarılı!\n",
            "İstek 5: 4.99s bekleniyor...İstek 5: Gönderiliyor... ✅ Başarılı!\n",
            "İstek 6: 5.34s bekleniyor...İstek 6: Gönderiliyor... ✅ Başarılı!\n",
            "İstek 7: 5.45s bekleniyor...İstek 7: Gönderiliyor... ✅ Başarılı!\n",
            "İstek 8: 5.43s bekleniyor...İstek 8: Gönderiliyor... ✅ Başarılı!\n",
            "İstek 9: 5.29s bekleniyor...İstek 9: Gönderiliyor... ✅ Başarılı!\n",
            "İstek 10: 5.40s bekleniyor...İstek 10: Gönderiliyor... ✅ Başarılı!\n",
            "İstek 11: 5.40s bekleniyor...İstek 11: Gönderiliyor... ✅ Başarılı!\n",
            "İstek 12: 5.23s bekleniyor...İstek 12: Gönderiliyor... ✅ Başarılı!\n",
            "İstek 13: 5.30s bekleniyor...İstek 13: Gönderiliyor... ✅ Başarılı!\n",
            "İstek 14: 5.35s bekleniyor...İstek 14: Gönderiliyor... ✅ Başarılı!\n",
            "İstek 15: 5.60s bekleniyor...İstek 15: Gönderiliyor... ✅ Başarılı!\n",
            "İstek 16: 5.25s bekleniyor...İstek 16: Gönderiliyor... ✅ Başarılı!\n",
            "İstek 17: 5.28s bekleniyor...İstek 17: Gönderiliyor... ✅ Başarılı!\n",
            "İstek 18: 5.40s bekleniyor...İstek 18: Gönderiliyor... ✅ Başarılı!\n",
            "İstek 19: 5.35s bekleniyor...İstek 19: Gönderiliyor... ✅ Başarılı!\n",
            "İstek 20: 5.39s bekleniyor...İstek 20: Gönderiliyor... ✅ Başarılı!\n",
            "\n",
            "Deneme tamamlandı.\n",
            "----------------------------------------------------------------------\n"
          ]
        }
      ]
    },
    {
      "cell_type": "markdown",
      "metadata": {
        "id": "sXNCRn8Wx71d"
      },
      "source": [
        "## Metin Gömüleri\n",
        "\n",
        "\n"
      ]
    },
    {
      "cell_type": "markdown",
      "source": [
        "`embed_content` yöntemi (**method**) ve `gemini-embedding-exp-03-07` modeli (**model**) kullanılarak bir metin parçası (**snippet of text**) için metin gömüleri (**text embeddings**) alınabilir.\n",
        "\n",
        "Gemini Gömüleme modeli (**Gemini Embeddings model**), varsayılan olarak 3072 boyutlu (**dimensions**) bir çıktı üretir. Ancak, 1 ile 3072 arasında istediğiniz bir çıktı boyutunu (**output dimensionality**) seçme seçeneğiniz vardır. Daha fazla bilgi için [gömüleme rehberine](https://ai.google.dev/gemini-api/docs/embeddings) göz atabilirsiniz."
      ],
      "metadata": {
        "id": "hrLawemYFrVF"
      }
    },
    {
      "cell_type": "code",
      "execution_count": 32,
      "metadata": {
        "id": "hpJIA5zmx8Vy"
      },
      "outputs": [],
      "source": [
        "TEXT_EMBEDDING_MODEL_ID = \"gemini-embedding-exp-03-07\""
      ]
    },
    {
      "cell_type": "code",
      "execution_count": 33,
      "metadata": {
        "id": "0afi69R9x_bh",
        "colab": {
          "base_uri": "https://localhost:8080/"
        },
        "outputId": "5bd74261-b191-4d32-a9ae-e4835bad75e3"
      },
      "outputs": [
        {
          "output_type": "stream",
          "name": "stdout",
          "text": [
            "[ContentEmbedding(\n",
            "  values=[\n",
            "    0.012580731,\n",
            "    -0.018076004,\n",
            "    0.023927925,\n",
            "    -0.025054757,\n",
            "    -0.0025450164,\n",
            "    <... 507 more items ...>,\n",
            "  ]\n",
            "), ContentEmbedding(\n",
            "  values=[\n",
            "    -0.0029938424,\n",
            "    -0.00813558,\n",
            "    0.011510712,\n",
            "    -0.025421003,\n",
            "    -0.0059720417,\n",
            "    <... 507 more items ...>,\n",
            "  ]\n",
            "), ContentEmbedding(\n",
            "  values=[\n",
            "    0.011351324,\n",
            "    -0.017471386,\n",
            "    -0.00046203335,\n",
            "    -0.01076974,\n",
            "    -0.012134048,\n",
            "    <... 507 more items ...>,\n",
            "  ]\n",
            ")]\n"
          ]
        }
      ],
      "source": [
        "response = client.models.embed_content(\n",
        "    model=TEXT_EMBEDDING_MODEL_ID,\n",
        "    contents=[\n",
        "        \"Sürücü belgesi nasıl alınır?\",\n",
        "        \"Sürücü belgemi nasıl yenilerim?\",\n",
        "        \"Sürücü belgemdeki adresi nasıl değiştiririm?\"\n",
        "        ],\n",
        "    config=types.EmbedContentConfig(output_dimensionality=512)\n",
        ")\n",
        "\n",
        "print(response.embeddings)"
      ]
    },
    {
      "cell_type": "markdown",
      "metadata": {
        "id": "Tje8pMbd5z7j"
      },
      "source": [
        "Her bir verdiğiniz metin parçası için birer tane olmak üzere, üç adet metin temsil vektörü (embedding) alacaksınız."
      ]
    },
    {
      "cell_type": "code",
      "execution_count": 34,
      "metadata": {
        "id": "zNeuBlNt4CRk",
        "colab": {
          "base_uri": "https://localhost:8080/"
        },
        "outputId": "1fc6fb52-6e84-4e80-8f4f-41a43dff2d64"
      },
      "outputs": [
        {
          "output_type": "execute_result",
          "data": {
            "text/plain": [
              "3"
            ]
          },
          "metadata": {},
          "execution_count": 34
        }
      ],
      "source": [
        "len(response.embeddings)"
      ]
    },
    {
      "cell_type": "markdown",
      "metadata": {
        "id": "hG5UPmq3543E"
      },
      "source": [
        "Her bir gömmenin (embedding) uzunluğunun 512 olduğunu da görebilirsiniz; bu, belirttiğiniz çıkış boyutuna (`output\\_dimensionality`) uygundur.\n",
        "\n"
      ]
    },
    {
      "cell_type": "code",
      "execution_count": 35,
      "metadata": {
        "id": "s4oAtC8a4GYH",
        "colab": {
          "base_uri": "https://localhost:8080/"
        },
        "outputId": "f87414d0-485e-4d4b-aa56-c71d88c3431e"
      },
      "outputs": [
        {
          "output_type": "stream",
          "name": "stdout",
          "text": [
            "512\n",
            "([0.012580731, -0.018076004, 0.023927925, -0.025054757], '...')\n"
          ]
        }
      ],
      "source": [
        "print(len(response.embeddings[0].values))\n",
        "print((response.embeddings[0].values[:4], '...'))"
      ]
    },
    {
      "cell_type": "markdown",
      "source": [
        "## Daha Fazlası İçin"
      ],
      "metadata": {
        "id": "qRvfqLcaE_p6"
      }
    },
    {
      "cell_type": "markdown",
      "metadata": {
        "id": "_SOkIVJIyF1W"
      },
      "source": [
        "\n",
        "\n",
        "### Kullanışlı API Referansları\n",
        "\n",
        "Yeni SDK hakkında daha fazla detay için [Google GenAI SDK](https://github.com/googleapis/python-genai) sayfasına göz atın.\n",
        "\n",
        "### İlgili Örnekler\n",
        "\n",
        "Gemini modellerini kullanan daha ayrıntılı örnekler için [Cookbook’un Hızlı Başlangıç (Quickstarts) klasörüne](https://github.com/google-gemini/cookbook/tree/main/quickstarts/) göz atabilirsiniz.\n",
        "Burada şunları öğrenebilirsiniz:\n",
        "\n",
        "* [Canlı API (Live API)](./Get_started_LiveAPI.ipynb) kullanımına nasıl başlanır,\n",
        "* [Birden fazla aracı (multiple tools)](../examples/LiveAPI_plotting_and_mapping.ipynb) aynı anda nasıl kullanabilirsiniz,\n",
        "* Gemini 2.0’ın [mekânsal anlama (spatial understanding)](./Spatial_understanding.ipynb) yeteneklerinden nasıl yararlanılır.\n",
        "\n",
        "Ayrıca, Gemini'nin düşünme sürecini (thinking models) açıkça gösteren ve daha karmaşık akıl yürütmeleri (complex reasonings) yönetebilen [Gemini düşünme modellerine (thinking models)](./Get_started_thinking.ipynb) de göz atın.\n",
        "\n"
      ]
    }
  ],
  "metadata": {
    "colab": {
      "provenance": [],
      "collapsed_sections": [
        "Mfk6YY3G5kqp",
        "CTIfnvCn9HvH",
        "Ef2CJjCAKGB7",
        "MvA_mbi1JxD5",
        "R-M29gaTKPyb",
        "uB0kkTKJiw8W",
        "VTzuBfHyWAg5",
        "HTAnYx_bbxPk",
        "1fhpwEIwzPaC",
        "b6sB7W-jdGxJ",
        "FNX4AQ9AWddm",
        "uQfLCxfQtPTg",
        "OZyFAkUEXN39",
        "qRvfqLcaE_p6"
      ],
      "include_colab_link": true
    },
    "kernelspec": {
      "display_name": "Python 3",
      "name": "python3"
    }
  },
  "nbformat": 4,
  "nbformat_minor": 0
}